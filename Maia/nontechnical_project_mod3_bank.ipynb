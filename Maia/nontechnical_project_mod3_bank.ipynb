{
 "cells": [
  {
   "cell_type": "markdown",
   "metadata": {},
   "source": [
    "The marketing campaign were based on phone calls. We use the data set \"bank-additional-full.csv\" which has the attribute information attached at the end of the report.\n",
    "\n",
    "The goal is improve the marketing strategy, analysis the data set and come up with prediction if the client will subscribe a term deposit (variable y).\n",
    "\n",
    "Having data, cleaning data, after exploring data, we decided to use only 12 categories and create the new feature dataframe Table * which has 41188 rows & 12 columns. Questions on those categories and to understand deeply how they are related to the clients' subcriptions (say yes).\n",
    "We do some experimentals, with hypothesis tests as below.\n",
    "\n"
   ]
  },
  {
   "cell_type": "markdown",
   "metadata": {},
   "source": [
    "### Table *"
   ]
  },
  {
   "cell_type": "code",
   "execution_count": null,
   "metadata": {},
   "outputs": [],
   "source": []
  }
 ],
 "metadata": {
  "kernelspec": {
   "display_name": "Python 3",
   "language": "python",
   "name": "python3"
  },
  "language_info": {
   "codemirror_mode": {
    "name": "ipython",
    "version": 3
   },
   "file_extension": ".py",
   "mimetype": "text/x-python",
   "name": "python",
   "nbconvert_exporter": "python",
   "pygments_lexer": "ipython3",
   "version": "3.7.3"
  }
 },
 "nbformat": 4,
 "nbformat_minor": 2
}
